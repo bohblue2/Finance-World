{
 "cells": [
  {
   "cell_type": "markdown",
   "metadata": {},
   "source": [
    "# Notation"
   ]
  },
  {
   "cell_type": "markdown",
   "metadata": {},
   "source": [
    "$a_i$ - number of shares or units of asset i  \n",
    "$E[\\cdot]$ - expectation  \n",
    "$\\eta$ - vector of excess returns $\\left(\\mu-r_{f}\\bf1\\right)$  \n",
    "$\\gamma$ - relative risk aversion coefficient  \n",
    "$\\mu_{i}$ - drift of stock i  \n",
    "$N(\\mu,\\sigma)$ - a normally distributed random variable with mean $\\mu$ and variance $\\sigma^2$  \n",
    "$\\mathcal{N}(\\cdot)$ - cumulative distribution function of a $N(0,1)$ random variable  \n",
    "$r_f$ - risk free rate of interest  \n",
    "$S_{i}(t)$ - price per share of stock i  \n",
    "$\\sigma_i$ - 1 x $m$ vector of coefficient of corresponding to $Z(t)$ in the model for the return of a stock  \n",
    "$\\Sigma$ - covariance matrix of returns of stocks  \n",
    "$t$ - time  \n",
    "$u_i$ - dollar amount held of asset $i$  \n",
    "$V$ - Value function in dynamic programming  \n",
    "$w_i$ - porfolio weights  \n",
    "$W(t)$ - wealth  \n",
    "$Z(t)$ - standard Brownian Motion\n"
   ]
  },
  {
   "cell_type": "markdown",
   "metadata": {},
   "source": [
    "# Modeling of Asset Price Dynamics"
   ]
  },
  {
   "cell_type": "markdown",
   "metadata": {},
   "source": [
    "## Modeling the Dynamics of a Stock"
   ]
  },
  {
   "cell_type": "markdown",
   "metadata": {},
   "source": [
    "주식의 수익률이 정규분포를 따른다는 가정부터 시작  \n",
    "(실제론 평상시엔 leptokurtic 형태에 가깝고, rare event가 터지는 상황은 levy 분포로 보통 모델링)"
   ]
  },
  {
   "cell_type": "markdown",
   "metadata": {},
   "source": [
    "$$r(t) = \\frac{S(t+\\Delta t)-S(t)}{S(t)} \\sim N(\\mu\\Delta t, \\sigma^2\\Delta t) \\label{eq1}\\tag{1}$$\n",
    "$$r(t) = \\frac{S(t+\\Delta t)-S(t)}{S(t)}= \\mu\\Delta t+ \\sigma\\epsilon(\\Delta t) \\label{eq2}\\tag{2}$$\n",
    ", where $\\epsilon(\\Delta t) \\sim N(0,\\Delta t)$, $\\mu$ is a drift, $\\sigma$ is a volatility  \n",
    "(2)식에서 $\\Delta t \\to 0$,으로 하면, 식 (3)의 SDE가 도출됨"
   ]
  },
  {
   "cell_type": "markdown",
   "metadata": {},
   "source": [
    "## A continuous time limit"
   ]
  },
  {
   "cell_type": "markdown",
   "metadata": {},
   "source": [
    "$$dS(t) = \\mu S(t)dt + \\sigma SdZ(t)  \\label{eq3}\\tag{3}$$  \n",
    ",where $Z(t)$ 는 standard brownian motion이고, $dZ \\to N(0,dt).$  \n",
    "식 (3)은 standard brownian motion으로 finance의 연속시간모델링에서 가장 많이 사용됨"
   ]
  },
  {
   "cell_type": "markdown",
   "metadata": {},
   "source": [
    "Ito's lemma를 통해서 식(3)은 다음과 같은 log꼴로 표현 가능하고,\n",
    "$$d(ln S) = \\left(\\mu-\\frac{1}{2}\\sigma^2\\right)dt + \\sigma dZ \\label{eq4}\\tag{4}$$"
   ]
  },
  {
   "cell_type": "markdown",
   "metadata": {},
   "source": [
    "위의 solution을 구하면 다음과 같은 시간관계 식이 됨  \n",
    "$$S(t) = S(0)e^{\\left(\\mu-\\frac{1}{2}\\sigma^2\\right)t+\\sigma Z(t)} \\label{eq5} \\tag{5}$$"
   ]
  },
  {
   "cell_type": "markdown",
   "metadata": {},
   "source": [
    "## Modeling Multiple Stocks"
   ]
  },
  {
   "cell_type": "markdown",
   "metadata": {},
   "source": [
    "여러 주식들의 가격은 대체로 $correlated$ geometric Brownian motions로 모델링된다.  \n",
    "즉 n번째 주식 가격을 $S_i(t)$ for $i = 1, \\cdots, n$으로 표현하면,"
   ]
  },
  {
   "cell_type": "markdown",
   "metadata": {},
   "source": [
    "$$\\frac{dS_i}{S_i}=\\mu_i dt + \\sigma_i dZ(t) \\label{eq6} \\tag{6}$$  \n",
    "where $Z(t) \\in \\mathbf{R}^m $은 standard $vector$ Brownian motion들이고 $\\sigma_i \\in \\mathbf{R}^{1\\times m}$이다.  \n",
    "  \n",
    "이 경우엔 $dZ \\sim N(0, Idt)$, where $I$는 $n \\times n$의 항등행렬이 되고, 그러므로 vector Brownian motion의 $Z_j, j=1...m$ element들은 $uncorrelated$되어 있다고 가정한다"
   ]
  },
  {
   "cell_type": "markdown",
   "metadata": {},
   "source": [
    "주식들의 수익률은 다음의 vector로 관리할 수 있고 $\\mathbf r = \\left[\\frac{dS_1}{S_1},\\cdots,\\frac{dS_n}{S_n}\\right]^T$, 그러면 (6)식을 다음과 같이 간결하게 쓸 수 있다."
   ]
  },
  {
   "cell_type": "markdown",
   "metadata": {},
   "source": [
    "$$ \\mathbf{r} = \\boldsymbol{\\mu}dt + \\boldsymbol{\\sigma}dZ \\label{eq7} \\tag{7}$$  \n",
    ",where  \n",
    "$$\\boldsymbol{\\mu} = \n",
    "\\begin{bmatrix}\n",
    "\\mu_1 \\\\\n",
    "\\vdots \\\\\n",
    "\\mu_n \n",
    "\\end{bmatrix}\n",
    ",\n",
    "\\boldsymbol{\\sigma} = \n",
    "\\begin{bmatrix}\n",
    "\\sigma_{1}\\\\\n",
    "\\vdots\\\\\n",
    "\\sigma_{n}\\\\\n",
    "\\end{bmatrix}\n",
    "\\label{eq8} \\tag{8}\n",
    "$$"
   ]
  },
  {
   "cell_type": "markdown",
   "metadata": {},
   "source": [
    "부가적으로 다음을 정의하면,\n",
    "$$\\Sigma = \\boldsymbol{\\sigma\\sigma^T} \\label{eq9} \\tag{9}$$  \n",
    "$\\Sigma dt$는 즉각적인 주식 수익률 vector의 covariance matrix가 된다."
   ]
  },
  {
   "cell_type": "markdown",
   "metadata": {},
   "source": [
    "## A Risk Free Asset"
   ]
  },
  {
   "cell_type": "markdown",
   "metadata": {},
   "source": [
    "finance에서 채권이나 현금 같은 risk free 자산에 다음의 수익률을 가정하는 건 매우 일반적이다.  \n",
    "\n",
    "$$dB = B\\space r_f dt \\label{eq10} \\tag{10}$$  \n",
    "  \n",
    "여기에 양변을 dt로 나누어 solution을 구하면 다음과 같이 된다.  \n",
    "\n",
    "$$B(t) = B(0)e^{r_{f}t} \\label{eq11} \\tag{11}$$    \n",
    "그러나 위의 SDE notation과의 일관성을 위해 (10)처럼 쓰도록 한다."
   ]
  },
  {
   "cell_type": "markdown",
   "metadata": {},
   "source": [
    "# Modeling Wealth Dynamics"
   ]
  },
  {
   "cell_type": "markdown",
   "metadata": {},
   "source": [
    "## Denominating a portfolio via weights"
   ]
  },
  {
   "cell_type": "markdown",
   "metadata": {},
   "source": [
    "$W(t)$를 우리가 가진 위험자산과 무위험 자산으로 구성된 포트폴리오의 가치(부)로 정의하면, 다음과 같이 그 자산에 투자된 가치(부)의 조각에 의해 각 자산에 대한 지분을 기술할 수 있다."
   ]
  },
  {
   "cell_type": "markdown",
   "metadata": {},
   "source": [
    "$$\\frac{dW}{W} = \\left(1- \\sum_{i=1}^{n}{w_i}\\right)\\frac{dB}{B}+\\sum_{i=1}^{n}{\\left(w_i \\frac{dS_i}{S_i}\\right)} \\label{eq12} \\tag{12}$$"
   ]
  },
  {
   "cell_type": "markdown",
   "metadata": {},
   "source": [
    "$dB$에 (11)을, $dS$에 (6)을 대입하면 다음과 같은 포트폴리오 가치의 dynamics가 나오게 된다."
   ]
  },
  {
   "cell_type": "markdown",
   "metadata": {},
   "source": [
    "$$\t\n",
    "\\begin{align}\n",
    "\\frac{dW}{W} & = r_f dt+ \\sum_{i=1}^{n}{w_i\\left[\\left(\\mu_i - r_f\\right)dt + \\sigma_i dZ\\right]} \\label{eq13} \\tag{13} \\\\\n",
    "& = \\left[r_f + \\mathbf{w}^T(\\boldsymbol{\\mu}-r_f \\mathbf{1}) \\right]dt + \\mathbf{w}^T \\boldsymbol{\\sigma} dZ \\\\\n",
    "\\end{align}$$"
   ]
  },
  {
   "cell_type": "markdown",
   "metadata": {},
   "source": [
    ",where $\\mathbf{w}$ : (n,1), $\\mathbf{1} : (n, 1)$  \n",
    "\n",
    "여기서 앞으로 자주 쓰게될 $(\\boldsymbol{\\mu}-r_f \\mathbf{1})$ 부분을 $\\boldsymbol{\\eta}$로 치환하면 다음과 같다."
   ]
  },
  {
   "cell_type": "markdown",
   "metadata": {},
   "source": [
    "$$\\frac{dW}{W} = \\left[r_f + \\mathbf{w}^T\\boldsymbol{\\eta} \\right]dt + \\mathbf{w}^T \\boldsymbol{\\sigma} dZ \\label{eq14} \\tag{14}$$"
   ]
  },
  {
   "cell_type": "markdown",
   "metadata": {},
   "source": [
    "포트폴리오의 지분을 기술할 때 포트폴리오 (12)식 처럼 weight $w_i$를 사용하는 것은 매우 편리하다. 그러나 이 지분을 표기할 때 아래와 같이, 해당 위험 자산을 몇 주 단위로 갖고 있는지(3.2)나 실제 현금 단위로 표기할 수도 있을 것이다."
   ]
  },
  {
   "cell_type": "markdown",
   "metadata": {},
   "source": [
    "$ Ww_i = \\alpha_i S_i = u_i $"
   ]
  },
  {
   "cell_type": "markdown",
   "metadata": {},
   "source": [
    "## Denominating a porfolio in shares"
   ]
  },
  {
   "cell_type": "markdown",
   "metadata": {},
   "source": [
    "$$ \\begin{align}\n",
    "dW & = r_f W dt+ \\sum_{i=1}^{n}{\\alpha_i S_i\\left[\\left(\\mu_i - r_f\\right)dt + \\sigma_i dZ\\right]} \\label{eq15} \\tag{15}  \\\\\n",
    "& =  r_f W dt+ \\sum_{i=1}^{n}{\\alpha_i S_i\\left[\\eta_i dt + \\sigma_i dZ\\right]} \\label{eq16} \\tag{16}\n",
    "\\end{align}\n",
    "$$"
   ]
  },
  {
   "cell_type": "markdown",
   "metadata": {},
   "source": [
    ", where $\\alpha$는 위험자산의 지분(단위 : 주)를 의미하고 S는 위험자산의 가격을 나타낸다. "
   ]
  },
  {
   "cell_type": "markdown",
   "metadata": {},
   "source": [
    "## Denominating a portfolio in dollars"
   ]
  },
  {
   "cell_type": "markdown",
   "metadata": {},
   "source": [
    "$$ \\begin{align}\n",
    "dW & = r_f W dt+ \\sum_{i=1}^{n}{u_i\\left[\\left(\\mu_i - r_f\\right)dt + \\sigma_i dZ\\right]} \\label{eq17} \\tag{17}  \\\\\n",
    "& =  r_f W dt+ \\sum_{i=1}^{n}{u_i\\left[\\eta_i dt + \\sigma_i dZ\\right]} \\label{eq18} \\tag{18}\n",
    "\\end{align}\n",
    "$$"
   ]
  },
  {
   "cell_type": "markdown",
   "metadata": {},
   "source": [
    ", where $u_i$는 포트폴리오에서 해당 자산에 대한 현금 지분을 나타낸다."
   ]
  },
  {
   "cell_type": "markdown",
   "metadata": {
    "heading_collapsed": true
   },
   "source": [
    "# Portfolio Optimization"
   ]
  },
  {
   "cell_type": "markdown",
   "metadata": {
    "hidden": true
   },
   "source": [
    "## The Classical Model of Merton"
   ]
  },
  {
   "cell_type": "markdown",
   "metadata": {
    "hidden": true
   },
   "source": []
  },
  {
   "cell_type": "markdown",
   "metadata": {
    "hidden": true
   },
   "source": []
  },
  {
   "cell_type": "markdown",
   "metadata": {
    "hidden": true
   },
   "source": [
    "## Dynamic Programming Solution"
   ]
  },
  {
   "cell_type": "markdown",
   "metadata": {
    "hidden": true
   },
   "source": []
  },
  {
   "cell_type": "markdown",
   "metadata": {
    "hidden": true
   },
   "source": []
  },
  {
   "cell_type": "markdown",
   "metadata": {
    "hidden": true
   },
   "source": [
    "## Portfolio Optimization of Advanced Models"
   ]
  },
  {
   "cell_type": "markdown",
   "metadata": {
    "hidden": true
   },
   "source": []
  },
  {
   "cell_type": "markdown",
   "metadata": {
    "hidden": true
   },
   "source": []
  },
  {
   "cell_type": "markdown",
   "metadata": {
    "hidden": true
   },
   "source": [
    "### The Portfolio Optimization Problem"
   ]
  },
  {
   "cell_type": "markdown",
   "metadata": {
    "hidden": true
   },
   "source": []
  },
  {
   "cell_type": "markdown",
   "metadata": {
    "hidden": true
   },
   "source": []
  },
  {
   "cell_type": "markdown",
   "metadata": {
    "hidden": true
   },
   "source": [
    "### Solution via the HJB Equation"
   ]
  },
  {
   "cell_type": "markdown",
   "metadata": {
    "hidden": true
   },
   "source": []
  },
  {
   "cell_type": "markdown",
   "metadata": {
    "hidden": true
   },
   "source": []
  },
  {
   "cell_type": "markdown",
   "metadata": {
    "hidden": true
   },
   "source": [
    "### The optimal control action"
   ]
  },
  {
   "cell_type": "markdown",
   "metadata": {
    "hidden": true
   },
   "source": []
  },
  {
   "cell_type": "markdown",
   "metadata": {
    "hidden": true
   },
   "source": []
  },
  {
   "cell_type": "markdown",
   "metadata": {
    "hidden": true
   },
   "source": [
    "## An Application to Pairs Trading"
   ]
  },
  {
   "cell_type": "markdown",
   "metadata": {
    "hidden": true
   },
   "source": []
  },
  {
   "cell_type": "markdown",
   "metadata": {
    "hidden": true
   },
   "source": []
  },
  {
   "cell_type": "markdown",
   "metadata": {
    "hidden": true
   },
   "source": [
    "### Wealth Dynamics in a Portfolio of Pairs"
   ]
  },
  {
   "cell_type": "markdown",
   "metadata": {
    "hidden": true
   },
   "source": []
  },
  {
   "cell_type": "markdown",
   "metadata": {
    "hidden": true
   },
   "source": []
  },
  {
   "cell_type": "markdown",
   "metadata": {
    "hidden": true
   },
   "source": [
    "### Numerical Example"
   ]
  },
  {
   "cell_type": "markdown",
   "metadata": {
    "hidden": true
   },
   "source": []
  },
  {
   "cell_type": "markdown",
   "metadata": {
    "hidden": true
   },
   "source": []
  },
  {
   "cell_type": "markdown",
   "metadata": {},
   "source": [
    "# Options and hedging"
   ]
  },
  {
   "cell_type": "markdown",
   "metadata": {},
   "source": [
    " 이 section에서는 무배당 주식에 대한 European call option의 고전 Black-Scholes option pricing equation을 도출할 것이다. 기본적인 아이디어는 기초자산과 무위험자산으로 구성된 포트폴리오를 만들어, 만기 때의 옵션 가치를 복제하는 것이다. 투자자의 관점에선 실제 옵션을 들고 있거나, 옵션을 복제하는 포트폴리오를 들고 있는 것에는 관심이 없을 수 있다.  \n",
    " 이렇게 복제 포트폴리오(replicating portfolio)를 만드는 것을 동적헷징(dynamic hedging)이라고도 한다. 이를 하는 이유는, 예컨대 옵션 매도자의 경우 복제 포트폴리오를 만듦으로써 매도한 옵션에 대한 위험을 헷지할 수 있기 때문이다. "
   ]
  },
  {
   "cell_type": "markdown",
   "metadata": {},
   "source": [
    "## The Payoff Structure of a European Call Option"
   ]
  },
  {
   "cell_type": "markdown",
   "metadata": {},
   "source": [
    "Long position payoff of European call option\n",
    "$$c(S,T) = (S-K)^+$$"
   ]
  },
  {
   "cell_type": "markdown",
   "metadata": {},
   "source": [
    "## The Classical Option Pricing Model of Black and Scholes"
   ]
  },
  {
   "cell_type": "markdown",
   "metadata": {},
   "source": [
    "Option pricing equation을 도출하기 위해, Geometric Brownian Motion을 따르는 기초자산과 무위험자산으로 구성된 포트폴리오를 European Call의 만기시점 payoff와 \"최대한 가깝게\" 운용하는 Objective의 Control problem을 formulating해보자."
   ]
  },
  {
   "cell_type": "markdown",
   "metadata": {},
   "source": [
    "$$\\min_{\\alpha}{E\\left[\\left(W(T)-f(S(T),T) \\right)^2\\right]} \\label{eq19} \\tag{19}$$\n",
    ",where $f(S(T),T) = (S(T)-K)^+ $  \n",
    "  \n",
    "$\\text{s.t.}$\n"
   ]
  },
  {
   "cell_type": "markdown",
   "metadata": {},
   "source": [
    "$$dW = r_f W dt+ \\alpha S\\left(\\left(\\mu - r_f\\right)dt + \\sigma dZ\\right) \\label{eq20} \\tag{20} $$\n",
    "$$dS = \\mu S dt + \\sigma S dZ \\label{21} \\tag{21}$$"
   ]
  },
  {
   "cell_type": "markdown",
   "metadata": {},
   "source": [
    "포트폴리오 가치의 dynamics ($dW$)를 3.2의 (15)형태로 표현함"
   ]
  },
  {
   "cell_type": "markdown",
   "metadata": {},
   "source": [
    "Dynamic Programming을 통한 solution이 Initial condition(즉, 포트폴리오의 Initial Wealth)을 가장 잘 복제하기 위해 어떤 것이어야 하는지를 암시할 것이기 때문에 Initial condition을 지정하는 것에 대해 의도적으로 모호하게 표현했다.  \n",
    "이러한 최적의 initial Wealth은 옵션의 공정가치(fair value)로 작용하며 블랙-숄즈 가격에 해당한다."
   ]
  },
  {
   "cell_type": "markdown",
   "metadata": {},
   "source": [
    "### Solution via the HJB equation"
   ]
  },
  {
   "cell_type": "markdown",
   "metadata": {},
   "source": [
    "Dynamic programming을 이용해 이 problem을 위한 HJB eqn은 다음과 같이 쓸 수 있다.  \n",
    "\n",
    "$$0 = \\min_{\\alpha}{\\left( V_t + V_S \\mu S +V_W(r_f W + \\alpha S(\\mu-r_f)) + V_{SS}\\frac{1}{2}\\sigma^2 S^2 + V_{SW}\\sigma^2 S^2 \\alpha + V_{WW}\\frac{1}{2}\\alpha^2 S^2 \\sigma^2 \\right)} \\label{22} \\tag{22}$$"
   ]
  },
  {
   "cell_type": "markdown",
   "metadata": {},
   "source": [
    "(19)가 $W(t)$로 구성된 linear quadratic structure의 problem이므로, HJB eqn을 풀기 위해 다음 형태의 solution을 갖는다고 추측할 수 있다.  \n",
    "\n",
    "$$V(t, W, S) = a(t,S)(W(t) - b(t,S))^2 + c(t,S) \\label{23} \\tag{23}$$"
   ]
  },
  {
   "cell_type": "markdown",
   "metadata": {},
   "source": [
    "이 문제는 min에 대한 문제이기 때문에 Value function은 \"손실\"로 해석해야 한다.\n",
    "$W(t)$가 포트폴리오 Wealth에 대한 함수이므로, $b(t,S)$는 해당 value function을 최소화하는 $W(t)$의 값이다.  \n",
    "따라서 최선의 복제를 위해 복제 포트폴리오의 초기 자산을 선택할 수 있다면(즉, 이 선택으로 인해 가장 작은 value function이 나오므로 가장 좋은 복제) $W(0) = b(0, S)$를 선택해야 한다. 그래서 $b(t, S)$는 자연스레 옵션의 '공정 가격(fair price)'으로 해석된다."
   ]
  },
  {
   "cell_type": "markdown",
   "metadata": {},
   "source": [
    "$c(t, S)$는 value function의 최소값이며, 따라서 expected quadratic cost에 따라 옵션을 실제로 복제하는 데 얼마나 근접할 수 있는지를 알려준다.  \n",
    "\n",
    "마지막으로 $a(t, S)$는 $b(t, S)$의 '공정 가격'과 같은 포트폴리오 Wealth를 갖지 못할 경우 value function(따라서 복제 오류)이 얼마나 빨리 커지는지를 나타낸다."
   ]
  },
  {
   "cell_type": "markdown",
   "metadata": {},
   "source": [
    "(23)의 value function을 HJB eqn(22)에 대입하면,"
   ]
  },
  {
   "cell_type": "markdown",
   "metadata": {},
   "source": [
    "$0  = \\min_{\\alpha}{\\Big[a_t(W-b)^2 - ab_t(W-b) + c_t + \\mu S(a_S (W-b)^2 - 2ab_S (W-b) + c_S)}$  \n",
    "$\\quad\\quad\\quad\\space + 2a(W-b)(r_f (W-b) + r_f b + \\alpha S(\\mu - r_f)$  \n",
    "$\\quad\\quad\\quad\\space + \\frac{1}{2} \\sigma^2 S^2 (a_{SS}(W-b)^2 - 2(2a_S b_S + ab_{SS})(W-b) + 2ab_{S}^{2} + c_{SS})$  \n",
    "$\\quad\\quad\\quad\\space + \\alpha\\sigma^2 S^2 (2a_S (W-b) - 2ab_S) + \\alpha^2 \\frac{1}{2}\\sigma^2 S^2 (2a)\\Big]$"
   ]
  },
  {
   "cell_type": "markdown",
   "metadata": {},
   "source": [
    "$$ =  \\min_{\\alpha}{ \n",
    "\\begin{Bmatrix}\n",
    "\\begin{bmatrix}\n",
    "1 &\n",
    "W-b &\n",
    "\\alpha\n",
    "\\end{bmatrix}\n",
    "&\n",
    "\\begin{bmatrix}\n",
    "P_{11} & P_{12} & P_{13} \\\\\n",
    "P_{21} & P_{22} & P_{23} \\\\\n",
    "P_{31} & P_{32} & P_{33}\n",
    "\\end{bmatrix}\n",
    "&\n",
    "\\begin{bmatrix}\n",
    "1 \\\\\n",
    "W-b \\\\\n",
    "\\alpha\n",
    "\\end{bmatrix}\n",
    "&\n",
    "\\end{Bmatrix}\n",
    "\\label{eq24} \\tag{24}\n",
    "}$$"
   ]
  },
  {
   "cell_type": "markdown",
   "metadata": {},
   "source": [
    ",where  \n",
    "$P_{11} = \\left(c_t + \\mu S c_S + \\frac{1}{2} \\sigma^2 S^2 (2ab_{S}^{2} + c_{SS})\\right)$  \n",
    "$P_{12} = \\left( abr_f - ab_t - \\mu S ab_S - \\sigma^2 S^2 (a_S b_S + \\frac{1}{2}ab_{SS})\\right)$  \n",
    "$P_{13} = -\\sigma^2 S^2 ab_S$  \n",
    "$P_{22} = \\left( a_t + \\mu Sa_S + 2ar_f + \\frac{1}{2}\\sigma^2 S^2 a_{SS} \\right)$  \n",
    "$P_{23} = \\left[ a(S(\\mu-r_f)) + \\sigma^2 S^2 a_S \\right]$  \n",
    "$P_{33} = \\sigma^2 S^2 a$  "
   ]
  },
  {
   "cell_type": "markdown",
   "metadata": {},
   "source": [
    "(24)를 $\\alpha$에 대해 미분하고 풀면, \n",
    "$$\n",
    "\\begin{align}\n",
    "\\alpha^* & = -P_{33}^{-1}\n",
    "\\begin{bmatrix}\n",
    "P_{13}^{T} & P_{23}^{T}\n",
    "\\end{bmatrix}\n",
    "\\begin{bmatrix}\n",
    "1 \\\\ W-b\n",
    "\\end{bmatrix}\n",
    "\\\\\n",
    "& = b_S - \\left( \\frac{(\\mu-r_f)}{\\sigma^2 S} + \\frac{a_S}{a} \\right) (W-b)\n",
    "\\\\\n",
    "\\end{align}\n",
    "\\label{eq25} \\tag{25}\n",
    "$$"
   ]
  },
  {
   "cell_type": "markdown",
   "metadata": {},
   "source": [
    "이 optimal strategy $a^*$를 다시 HJB (24)에 대입하면 아래와 같다.  \n",
    "\n",
    "$$\n",
    "\\begin{align}\n",
    "0 & = \\begin{bmatrix} 1 & W-b \\end{bmatrix}\n",
    "\\left\\{ \n",
    "\\begin{bmatrix} P_{11} & P_{12}\\\\ * & P_{22} \\end{bmatrix}\n",
    "-\n",
    "\\begin{bmatrix} P_{13} \\\\ P_{23}\\end{bmatrix} P_{33}^{-1} \\begin{bmatrix} P_{13}^T & P_{23}^T\\end{bmatrix}\n",
    "\\right\\}\n",
    "\\begin{bmatrix} 1 \\\\ W-b\\end{bmatrix}\n",
    "\\\\\n",
    "& = \\begin{bmatrix} 1 & W-b \\end{bmatrix}\n",
    "\\begin{bmatrix} \n",
    "P_{11}-P_{13}P_{33}^{-1} P_{13}^T & P_{12}-P_{13}P_{33}^{-1} P_{23}^T \\\\\n",
    "* & P_{22}-P_{23}P_{33}^{-1} P_{23}^T\n",
    "\\end{bmatrix}\n",
    "\\begin{bmatrix} 1 \\\\ W-b\\end{bmatrix}\n",
    "\\\\\n",
    "\\end{align}\n",
    "\\label{eq26}\n",
    "\\tag{26}\n",
    "$$"
   ]
  },
  {
   "cell_type": "markdown",
   "metadata": {},
   "source": [
    "위 행렬의 모든 element는 0 이어야 하므로 (26) 가운데 행렬의 (1,1), (1,2), (2,2) elements의 equation들은 다음과 같다.  \n",
    "\n",
    "$$ 0 = c_t + \\mu S c_S + \\frac{1}{2}\\sigma^2 S^2 c_{SS} \\label{eq28} \\tag{28} $$\n",
    "$$ 0 = br_f - b_t - r_f Sb_S - \\frac{1}{2}\\sigma^2 S^2 b_{SS} \\label{eq29} \\tag{29}$$\n",
    "$$ 0 = (a_t - \\mu S a_S + 2r_f Sa_S + 2ar_f + \\frac{1}{2}\\sigma^2 S^2 a_{SS}) - \\frac{(a(\\mu - r_f)^2)}{\\sigma^2}-\\frac{\\sigma^2 S^2 a_{S}^{2}}{a} \\label{eq30} \\tag{30}$$"
   ]
  },
  {
   "cell_type": "markdown",
   "metadata": {},
   "source": [
    "$s.t.$ 경계조건들 : $c(T,S)=0,\\quad b(T,S) = f(T,S),\\quad a(T,S) = 1$"
   ]
  },
  {
   "cell_type": "markdown",
   "metadata": {},
   "source": [
    "## The Black-Scholes option pricing equation"
   ]
  },
  {
   "cell_type": "markdown",
   "metadata": {},
   "source": [
    "$b(t,S)$의 해석을 옵션의 \"공정가격\"이라고 했던 것을 상기시켜보면, $b(0,S)$는 optimal strategy 하에서 가장 payoff를 잘 복제한 결과이다. (29)로부터 우리는 다음을 따르는 공정가격을 이끌어낼 수 있다."
   ]
  },
  {
   "cell_type": "markdown",
   "metadata": {},
   "source": [
    "$$b_t + r_f S b_S + \\frac{1}{2}\\sigma^2 S^2 b_{SS} = r_f b \\label{31} \\tag{31}$$"
   ]
  },
  {
   "cell_type": "markdown",
   "metadata": {},
   "source": [
    "s.t. 경계조건 $b(T,S) = f(T,S)$"
   ]
  },
  {
   "cell_type": "markdown",
   "metadata": {},
   "source": [
    "(31)이 바로 그 Black-Scholes eqn이 된다. $\\left(\\frac{\\partial V}{\\partial t} + \\frac{1}{2}\\sigma^2 S^2 \\frac{\\partial^2 V}{\\partial S^2} + r_f S \\frac{\\partial V}{\\partial S}-r_f V = 0\\right)$"
   ]
  },
  {
   "cell_type": "markdown",
   "metadata": {},
   "source": [
    "만약 payoff function $f(T,S)$이 European call option이면 (즉 $f(T,S) = (S-K)^+$), 다음과 같은 closed form solution이 존재하게 된다."
   ]
  },
  {
   "cell_type": "markdown",
   "metadata": {},
   "source": [
    "$$b(t,S) = S \\mathcal N(d_1) - K e^{r_f(T-t)} \\mathcal N(d_2) \\label{eq32} \\tag{32}$$  \n",
    "\n",
    "$$d_1 = \\frac{ln(\\frac{S}{K}) + (r+\\frac{1}{2} \\sigma^2)(T-t)}{\\sigma \\sqrt{T-t}}, \\quad d_2 = d_1 - \\sigma \\sqrt{T-t} $$"
   ]
  },
  {
   "cell_type": "markdown",
   "metadata": {},
   "source": [
    ", where $\\mathcal{N}(\\cdot)$은 표준정규분포의 CDF이고 위의 (32)를 Black-Scholes formula라고 한다.  \n",
    "  \n",
    "Black-Scholes equation을 이끌어 내는 다양한 방법들이 있지만, 위의 방법은 고전적인 방법이 아니라서 아마 이러한 도출은 처음 접하리라 생각된다. 이 도출의 접근방식은 Option Pricing과 Control의 연결을 강조해서 보여주는 의의가 있다."
   ]
  },
  {
   "cell_type": "markdown",
   "metadata": {},
   "source": [
    "### Perfect Replication and the Optimal Control Strategy"
   ]
  },
  {
   "cell_type": "markdown",
   "metadata": {},
   "source": [
    "이제 (28)에 대해 살펴보자.\n",
    "$$c_t + \\mu S c_S + \\frac{1}{2}\\sigma^2 S^2 (c_{SS}) = 0$$"
   ]
  },
  {
   "cell_type": "markdown",
   "metadata": {},
   "source": [
    "c의 말기조건은 0이므로, solution은 모든 t와 S에 대해 $c(t,S) = 0$이 된다.  \n",
    "\n",
    "이 결과는 만약 $b(t,S)$와 똑같은 wealth로 시작해 optimal strategy(25)에 따라 거래한다면 우리가 완벽히 option의 payoff를 에러없이 완벽히 복제할 수 있다는 것을 의미한다. 즉 value function은 $V(t, S, b(t,S)=0$이 된다."
   ]
  },
  {
   "cell_type": "markdown",
   "metadata": {},
   "source": [
    "optimal strategy $\\left( \\alpha^*= b_S - \\left( \\frac{(\\mu-r_f)}{\\sigma^2 S} + \\frac{a_S}{a} \\right) (W-b)\\right)$(25)에 대해 생각해보자. 만약 우리가 초기 자본(initial wealth)을 $W(0) = b(0,S)$와 같이 시작한다면, 우리는 완벽한 복제를 할 수 있게 된다. 이는 우리가 모든 t에 대해 $W(t) = b(t, S(t)$를 갖는 것을 의미한다. 그래서 optimal strategy는 다음과 같이 축소된다.  \n",
    "\n",
    "$$\\alpha^* = b_S \\label{eq33} \\tag{33}$$"
   ]
  },
  {
   "cell_type": "markdown",
   "metadata": {},
   "source": [
    "이 거래 전략을 $delta \\space hedge$라고 하고, 우변을 option의 $delta$라고 한다. 다음 섹션을 통해 이 델타헷징 전략의 수치적 예제를 살펴보자."
   ]
  },
  {
   "cell_type": "markdown",
   "metadata": {},
   "source": [
    "## Numerical Simulation of the Delta Hedging Strategy"
   ]
  },
  {
   "cell_type": "code",
   "execution_count": 1,
   "metadata": {},
   "outputs": [],
   "source": [
    "from scipy import stats\n",
    "import numpy as np\n",
    "import matplotlib.pyplot as plt\n",
    "import matplotlib.animation as animation"
   ]
  },
  {
   "cell_type": "code",
   "execution_count": 2,
   "metadata": {},
   "outputs": [],
   "source": [
    "total_date = 84\n",
    "S = np.zeros((total_date+1, 1)) # 주가벡터 생성(781,1)\n",
    "delta= np.zeros((total_date+1, 1))\n",
    "C= np.zeros((total_date+1, 1))\n",
    "b= np.zeros((total_date+1, 1))\n",
    "W= np.zeros((total_date+1, 1))\n",
    "\n",
    "S[0] = 1\n",
    "r = 0.05 # risk free rate\n",
    "mu = 0.15\n",
    "sigma = 0.2\n",
    "K = 1\n",
    "\n",
    "\n",
    "dt = 1/252"
   ]
  },
  {
   "cell_type": "code",
   "execution_count": 3,
   "metadata": {},
   "outputs": [],
   "source": [
    "def call_price(S, K, ttm, r, sigma):    \n",
    "    d1 = ( np.log(S / K) + (r + sigma**2 * 0.5) * ttm ) / ( sigma * np.sqrt(ttm) )\n",
    "    d2 = ( np.log(S / K) + (r - sigma**2 * 0.5) * ttm ) / ( sigma * np.sqrt(ttm) )\n",
    "    val = ( S * stats.norm.cdf(d1, 0.0, 1.0) ) - K * np.exp( -r * ttm ) * stats.norm.cdf(d2, 0.0, 1.0)\n",
    "    return val\n",
    "\n",
    "def call_delta(S, K, ttm, r, sigma):\n",
    "    d1 = ( np.log(S / K) + (r + sigma**2 * 0.5) * ttm ) / ( sigma * np.sqrt(ttm) )\n",
    "    val = stats.norm.cdf(d1, 0.0, 1.0)\n",
    "    return val"
   ]
  },
  {
   "cell_type": "code",
   "execution_count": 11,
   "metadata": {
    "scrolled": false
   },
   "outputs": [
    {
     "data": {
      "text/plain": [
       "<matplotlib.legend.Legend at 0x22c71a02b00>"
      ]
     },
     "execution_count": 11,
     "metadata": {},
     "output_type": "execute_result"
    },
    {
     "data": {
      "image/png": "[encoded data removed]",
      "text/plain": [
       "<Figure size 2160x1080 with 1 Axes>"
      ]
     },
     "metadata": {
      "needs_background": "light"
     },
     "output_type": "display_data"
    }
   ],
   "source": [
    "W[0] = call_price(S[0], K, 84/252, r, sigma)\n",
    "x=np.linspace(0.7, 1.4, 100)\n",
    "\n",
    "plt.rcParams['figure.figsize'] = [30, 15]\n",
    "plt.rcParams.update({'font.size': 20})\n",
    "\n",
    "plt.figure()\n",
    "plt.xlim(0.7, 1.4)\n",
    "plt.ylim(-0.1, 0.4)\n",
    "plt.plot(x,np.maximum(x-K,0), color='k', label='Call payoff') # payoff graph\n",
    "plt.title(\"Hedging Option\", fontdict={'fontsize':40})\n",
    "plt.xlabel('Strike')\n",
    "plt.ylabel('P&L')\n",
    "\n",
    "S_list=[]\n",
    "W_list=[]\n",
    "for i in range(150):\n",
    "    for t in range(0, total_date): # 84 영업일 이후를 의미\n",
    "        Z = np.random.randn(1)\n",
    "        S[t+1] = S[t]*np.exp((mu-0.5*sigma**2)*dt + sigma*np.sqrt(dt)*Z)\n",
    "        ttm = (84-t)/252 # time to maturity 84/252\n",
    "        delta[t+1] = call_delta(S[t+1], K, ttm, r, sigma)\n",
    "        C[t+1] = call_price(S[t+1], K, ttm, r, sigma)\n",
    "        \n",
    "        dZ = np.sqrt(1*dt)*Z # Brownian Motion\n",
    "        dW = r*W[t]*dt + delta[t]*S[t]*((mu-r)*dt + sigma * dZ) # dynamics of Replicated Portfolio\n",
    "        \n",
    "        W[t+1] = W[t] + dW # rough dynamic equation\n",
    "\n",
    "    S_list.append(S[-1][0])\n",
    "    W_list.append(W[-1][0])\n",
    "\n",
    "plt.plot(S_list,W_list,'ro', alpha=0.5, markersize=40, label= 'Replicated portfolio') # Portfolio payoff at Maturity\n",
    "plt.legend()"
   ]
  },
  {
   "cell_type": "markdown",
   "metadata": {},
   "source": [
    "# Appendix"
   ]
  },
  {
   "cell_type": "markdown",
   "metadata": {},
   "source": [
    "## Dynamic Programming and the Hamilton-Jacobi-Bellman Equation"
   ]
  },
  {
   "cell_type": "markdown",
   "metadata": {},
   "source": [
    "다음 형태의 optimal control problem을 상정해보자"
   ]
  },
  {
   "cell_type": "markdown",
   "metadata": {},
   "source": [
    "$$\\max_{u}{E[L(X(T))]}$$\n",
    "s.t.\n",
    "$$dX = a(t, X, u)dt + b(t, X, u)dZ$$"
   ]
  },
  {
   "cell_type": "markdown",
   "metadata": {},
   "source": [
    "Dynamic programming approach를 써서, 현재 상태에서 최적의 \"보상\"을 확보한 value function $V(t,x)$를 정의함으로써 이 문제를 해결할 수 있다.  \n",
    "\n",
    "$$V(t,x) = \\max_{u}{E[L(X(T))|X(t)=x]}$$"
   ]
  },
  {
   "cell_type": "markdown",
   "metadata": {},
   "source": [
    "그러면 iterated expectations의 성질과 Ito's lemma로 인해, $V(t,x)$는 다음을 만족한다."
   ]
  },
  {
   "cell_type": "markdown",
   "metadata": {},
   "source": [
    "$$\n",
    "\\begin{align}\n",
    "V(t,x) & = \\max_{u}{E[V(t+dt, X(t+dt)) \\space\\space| X(t) = x]}\\\\ \n",
    "& = \\max_{u}{E[V(t, X(t)) + dV(t, X(t)) \\space\\space| X(t) = x]}\\\\\n",
    "& = \\max_{u}{E[V(t, X(t)) + V_tdt + V_X adt + \\frac{1}{2}V_{XX}b^2 dt + V_X bdZ \\space\\space | X(t) = x]}\\\\\n",
    "& = \\max_{u}{[V(t, X(t)) + V_tdt + V_X adt + \\frac{1}{2}V_{XX}b^2 dt]}\\\\\n",
    "\\end{align}\n",
    "$$"
   ]
  },
  {
   "cell_type": "markdown",
   "metadata": {},
   "source": [
    "그러므로,\n",
    "$$0 = \\max_{u}{[V(t, X(t)) + V_X a(t, X, u) + \\frac{1}{2}V_{XX}b^2(t, X, u)]}$$"
   ]
  }
 ],
 "metadata": {
  "kernelspec": {
   "display_name": "Python 3",
   "language": "python",
   "name": "python3"
  },
  "language_info": {
   "codemirror_mode": {
    "name": "ipython",
    "version": 3
   },
   "file_extension": ".py",
   "mimetype": "text/x-python",
   "name": "python",
   "nbconvert_exporter": "python",
   "pygments_lexer": "ipython3",
   "version": "3.6.6"
  },
  "latex_envs": {
   "LaTeX_envs_menu_present": true,
   "autoclose": false,
   "autocomplete": true,
   "bibliofile": "biblio.bib",
   "cite_by": "apalike",
   "current_citInitial": 1,
   "eqLabelWithNumbers": true,
   "eqNumInitial": 1,
   "hotkeys": {
    "equation": "Ctrl-E",
    "itemize": "Ctrl-I"
   },
   "labels_anchors": false,
   "latex_user_defs": false,
   "report_style_numbering": false,
   "user_envs_cfg": false
  },
  "toc": {
   "base_numbering": 1,
   "nav_menu": {},
   "number_sections": true,
   "sideBar": true,
   "skip_h1_title": false,
   "title_cell": "Table of Contents",
   "title_sidebar": "Contents",
   "toc_cell": false,
   "toc_position": {},
   "toc_section_display": true,
   "toc_window_display": false
  },
  "varInspector": {
   "cols": {
    "lenName": 16,
    "lenType": 16,
    "lenVar": 40
   },
   "kernels_config": {
    "python": {
     "delete_cmd_postfix": "",
     "delete_cmd_prefix": "del ",
     "library": "var_list.py",
     "varRefreshCmd": "print(var_dic_list())"
    },
    "r": {
     "delete_cmd_postfix": ") ",
     "delete_cmd_prefix": "rm(",
     "library": "var_list.r",
     "varRefreshCmd": "cat(var_dic_list()) "
    }
   },
   "types_to_exclude": [
    "module",
    "function",
    "builtin_function_or_method",
    "instance",
    "_Feature"
   ],
   "window_display": false
  }
 },
 "nbformat": 4,
 "nbformat_minor": 2
}
