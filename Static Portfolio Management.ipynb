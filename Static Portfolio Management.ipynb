{
 "cells": [
  {
   "cell_type": "markdown",
   "metadata": {},
   "source": [
    "# Setting"
   ]
  },
  {
   "cell_type": "code",
   "execution_count": 1,
   "metadata": {},
   "outputs": [],
   "source": [
    "from gurobipy import *\n",
    "from math import sqrt\n",
    "import pandas as pd\n",
    "import numpy as np\n",
    "import matplotlib.pyplot as plt\n",
    "import FinanceDataReader as fdr\n",
    "\n",
    "\n",
    "# KB Finance(105560), Hyundai Mtr(005380), SK Hynix(000660)\n",
    "\n",
    "'''\n",
    "한국거래소 시가총액 상위 20개 중 10개 종목\n",
    "005930\t삼성전자\n",
    "000660\tSK하이닉스\n",
    "035420\tNAVER\n",
    "005380\t현대차\n",
    "068270\t셀트리온\n",
    "051910\tLG화학\n",
    "055550  신한지주\n",
    "005490  POSCO\n",
    "017670  SK텔레콤\n",
    "051900  LG생활건강\n",
    "\n",
    "'''\n",
    "\n",
    "ticker_list = ['005930', '000660', '035420', '005380', '068270', '051910', '055550', '005490', '017670', '051900']\n",
    "df_list = [fdr.DataReader(ticker, '2015-01-01', '2017-12-31')['Change'] for ticker in ticker_list]\n",
    "\n",
    "df = pd.concat(df_list, axis=1)\n",
    "#df.columns = ['005930', '000660', '005935', '035420', '005380', '207940', '012330', '068270', '051910', '055550', '069500']\n",
    "df.columns = ['삼성전자', 'SK하이닉스', 'NAVER', '현대차',\n",
    "              '셀트리온','LG화학', '신한지주', 'POSCO', 'SK텔레콤', 'LG생활건강']\n",
    "\n",
    "r = df.dropna()\n",
    "rf = 0.0125  # 기준 금리\n",
    "\n",
    "\n",
    "#df = df.resample('Y').agg(lambda x:x.mean()*252)\n",
    "\n",
    "\n",
    "# Calculate basic summary statistics for individual stocks\n",
    "stock_volatility = r.std() * np.sqrt(252)\n",
    "stock_return = r.mean() * 252\n",
    "cov = r.cov() * 252\n",
    "\n",
    "# Calculate basic summary statistics for individual stocks\n",
    "\n",
    "stock_volatility = r.std() * np.sqrt(252)\n",
    "stock_return = r.mean() * 252"
   ]
  },
  {
   "cell_type": "markdown",
   "metadata": {},
   "source": [
    "## Minimum risk Portfolio"
   ]
  },
  {
   "cell_type": "code",
   "execution_count": 2,
   "metadata": {
    "scrolled": true
   },
   "outputs": [
    {
     "name": "stdout",
     "output_type": "stream",
     "text": [
      "Academic license - for non-commercial use only\n",
      "Minimum Risk Portfolio:\n",
      "\n",
      "삼성전자\t\t: 0.16924\n",
      "SK하이닉스\t\t: 0.0283659\n",
      "NAVER\t\t: 0.0721975\n",
      "현대차\t\t: 0.118023\n",
      "셀트리온\t\t: 0.0422713\n",
      "LG화학\t\t: 0.0503869\n",
      "신한지주\t\t: 0.13129\n",
      "POSCO\t\t: 0.0464872\n",
      "SK텔레콤\t\t: 0.243841\n",
      "LG생활건강\t\t: 0.0978973\n",
      "\n",
      "Volatility      = 0.128164\n",
      "Expected Return = 0.15695\n"
     ]
    }
   ],
   "source": [
    "# Create an empty model\n",
    "m = Model('portfolio')\n",
    "\n",
    "# Add a variable for each stock\n",
    "vars = pd.Series(m.addVars(df.columns), index=df.columns) # weight\n",
    "\n",
    "# Objective is to minimize risk (squared).  This is modeled using the\n",
    "# covariance matrix, which measures the historical correlation between stocks.\n",
    "\n",
    "#sigma = data.cov()\n",
    "portfolio_risk = cov.dot(vars).dot(vars) # Quadratic Programming\n",
    "m.setObjective(portfolio_risk, GRB.MINIMIZE)\n",
    "\n",
    "# Fix budget with a constraint\n",
    "m.addConstr(vars.sum() == 1, 'budget')\n",
    "\n",
    "# Optimize model to find the minimum risk portfolio\n",
    "m.setParam('OutputFlag', 0)\n",
    "m.optimize()\n",
    "\n",
    "# Create an expression representing the expected return for the portfolio\n",
    "portfolio_return = stock_return.dot(vars)\n",
    "\n",
    "# Display minimum risk portfolio\n",
    "print('Minimum Risk Portfolio:\\n')\n",
    "\n",
    "X = []\n",
    "for v in vars:\n",
    "    X.append(v.x)\n",
    "\n",
    "for i in range(len(vars.index)):\n",
    "#     print(vars.index[i]+ \" : \", X[i])\n",
    "#     name = vars.index[i]\n",
    "#     value = X[i]\n",
    "#     print('\\t%s\\t: %g' % (name, value))\n",
    "    print('%s\\t\\t: %g' % (vars.index[i], X[i]))\n",
    "\n",
    "\n",
    "minrisk_volatility = sqrt(portfolio_risk.getValue())\n",
    "print('\\nVolatility      = %g' % minrisk_volatility)\n",
    "minrisk_return = portfolio_return.getValue()\n",
    "print('Expected Return = %g' % minrisk_return)"
   ]
  },
  {
   "cell_type": "code",
   "execution_count": 3,
   "metadata": {},
   "outputs": [
    {
     "data": {
      "text/html": [
       "<div>\n",
       "<style scoped>\n",
       "    .dataframe tbody tr th:only-of-type {\n",
       "        vertical-align: middle;\n",
       "    }\n",
       "\n",
       "    .dataframe tbody tr th {\n",
       "        vertical-align: top;\n",
       "    }\n",
       "\n",
       "    .dataframe thead th {\n",
       "        text-align: right;\n",
       "    }\n",
       "</style>\n",
       "<table border=\"1\" class=\"dataframe\">\n",
       "  <thead>\n",
       "    <tr style=\"text-align: right;\">\n",
       "      <th></th>\n",
       "      <th>Expected Return</th>\n",
       "      <th>Volatility</th>\n",
       "      <th>Sharpe Ratio</th>\n",
       "    </tr>\n",
       "  </thead>\n",
       "  <tbody>\n",
       "    <tr>\n",
       "      <th>삼성전자</th>\n",
       "      <td>0.256378</td>\n",
       "      <td>0.257771</td>\n",
       "      <td>0.946104</td>\n",
       "    </tr>\n",
       "    <tr>\n",
       "      <th>SK하이닉스</th>\n",
       "      <td>0.221552</td>\n",
       "      <td>0.347812</td>\n",
       "      <td>0.601048</td>\n",
       "    </tr>\n",
       "    <tr>\n",
       "      <th>NAVER</th>\n",
       "      <td>0.121247</td>\n",
       "      <td>0.324492</td>\n",
       "      <td>0.335130</td>\n",
       "    </tr>\n",
       "    <tr>\n",
       "      <th>현대차</th>\n",
       "      <td>0.013051</td>\n",
       "      <td>0.284847</td>\n",
       "      <td>0.001935</td>\n",
       "    </tr>\n",
       "    <tr>\n",
       "      <th>셀트리온</th>\n",
       "      <td>0.738114</td>\n",
       "      <td>0.475787</td>\n",
       "      <td>1.525081</td>\n",
       "    </tr>\n",
       "    <tr>\n",
       "      <th>LG화학</th>\n",
       "      <td>0.337601</td>\n",
       "      <td>0.353303</td>\n",
       "      <td>0.920175</td>\n",
       "    </tr>\n",
       "    <tr>\n",
       "      <th>신한지주</th>\n",
       "      <td>0.066093</td>\n",
       "      <td>0.245276</td>\n",
       "      <td>0.218499</td>\n",
       "    </tr>\n",
       "    <tr>\n",
       "      <th>POSCO</th>\n",
       "      <td>0.114905</td>\n",
       "      <td>0.319017</td>\n",
       "      <td>0.321001</td>\n",
       "    </tr>\n",
       "    <tr>\n",
       "      <th>SK텔레콤</th>\n",
       "      <td>0.026939</td>\n",
       "      <td>0.237919</td>\n",
       "      <td>0.060687</td>\n",
       "    </tr>\n",
       "    <tr>\n",
       "      <th>LG생활건강</th>\n",
       "      <td>0.287876</td>\n",
       "      <td>0.366403</td>\n",
       "      <td>0.751565</td>\n",
       "    </tr>\n",
       "  </tbody>\n",
       "</table>\n",
       "</div>"
      ],
      "text/plain": [
       "        Expected Return  Volatility  Sharpe Ratio\n",
       "삼성전자           0.256378    0.257771      0.946104\n",
       "SK하이닉스         0.221552    0.347812      0.601048\n",
       "NAVER          0.121247    0.324492      0.335130\n",
       "현대차            0.013051    0.284847      0.001935\n",
       "셀트리온           0.738114    0.475787      1.525081\n",
       "LG화학           0.337601    0.353303      0.920175\n",
       "신한지주           0.066093    0.245276      0.218499\n",
       "POSCO          0.114905    0.319017      0.321001\n",
       "SK텔레콤          0.026939    0.237919      0.060687\n",
       "LG생활건강         0.287876    0.366403      0.751565"
      ]
     },
     "execution_count": 3,
     "metadata": {},
     "output_type": "execute_result"
    }
   ],
   "source": [
    "sharpe = (stock_return - rf) / stock_volatility\n",
    "ind = ['Expected Return', 'Volatility', 'Sharpe Ratio' ]\n",
    "temp = pd.DataFrame([stock_return, stock_volatility, sharpe], index=ind).transpose()\n",
    "temp"
   ]
  },
  {
   "cell_type": "markdown",
   "metadata": {},
   "source": [
    "## Optimal PF, [Merton 1971](https://www.sciencedirect.com/science/article/pii/002205317190038X)"
   ]
  },
  {
   "cell_type": "code",
   "execution_count": 4,
   "metadata": {},
   "outputs": [],
   "source": [
    "cov_inv = np.linalg.inv(cov)\n",
    "temp = np.dot(cov_inv, (stock_return- rf))\n",
    "theta_opt = temp / temp.sum() # optimal weight in Risky Mutual fund"
   ]
  },
  {
   "cell_type": "code",
   "execution_count": 5,
   "metadata": {},
   "outputs": [
    {
     "name": "stdout",
     "output_type": "stream",
     "text": [
      "0.4321381092802477\n"
     ]
    }
   ],
   "source": [
    "alpha = np.dot(theta_opt, stock_return)\n",
    "print(alpha)"
   ]
  },
  {
   "cell_type": "code",
   "execution_count": 6,
   "metadata": {
    "scrolled": true
   },
   "outputs": [
    {
     "name": "stdout",
     "output_type": "stream",
     "text": [
      "0.4321381092802477 0.21844679528037375\n"
     ]
    }
   ],
   "source": [
    "cov_inv = np.linalg.inv(cov)\n",
    "temp = np.dot(cov_inv, (stock_return- rf))\n",
    "theta_opt = temp / temp.sum() # optimal weight in Risky Mutual fund\n",
    "\n",
    "alpha = np.dot(theta_opt, stock_return) # 0.5941\n",
    "sigma = np.sqrt(cov.dot(theta_opt).dot(theta_opt))\n",
    "print(alpha, sigma)"
   ]
  },
  {
   "cell_type": "markdown",
   "metadata": {},
   "source": [
    "## Plotting"
   ]
  },
  {
   "cell_type": "code",
   "execution_count": 9,
   "metadata": {},
   "outputs": [],
   "source": [
    "# Solve for efficient frontier by varying target return\n",
    "target = m.addConstr(portfolio_return == minrisk_return, 'target')\n",
    "frontier = pd.Series()\n",
    "for r_ in np.linspace(stock_return.min(), stock_return.max(), 100):\n",
    "    target.rhs = r_\n",
    "    m.optimize() # return이 주어질 때 최적 weight에 대해서 optimize\n",
    "    frontier.loc[sqrt(portfolio_risk.getValue())] = r_"
   ]
  },
  {
   "cell_type": "code",
   "execution_count": 14,
   "metadata": {},
   "outputs": [
    {
     "data": {
      "image/png": "[encoded data removed]",
      "text/plain": [
       "<Figure size 432x288 with 1 Axes>"
      ]
     },
     "metadata": {
      "needs_background": "light"
     },
     "output_type": "display_data"
    }
   ],
   "source": [
    "CAL = (alpha-rf)/sigma * np.linspace(0, sigma, 100) + rf\n",
    "\n",
    "#%%\n",
    "# Plot volatility versus expected return for individual stocks\n",
    "plt.rc('font', family='Malgun Gothic')\n",
    "ax = plt.gca()\n",
    "ax.scatter(x=stock_volatility, y=stock_return,\n",
    "           color='Blue', label='Individual Stocks')\n",
    "\n",
    "\n",
    "for i, stock in enumerate(df.columns):\n",
    "    if i != 7:\n",
    "        ax.annotate(stock, (stock_volatility[i], stock_return[i]))\n",
    "    else:\n",
    "        ax.annotate(stock, (stock_volatility[i], stock_return[i]), \n",
    "                    horizontalalignment='right',\n",
    "                    verticalalignment='bottom')\n",
    "        \n",
    "# Plot volatility versus expected return for minimum risk portfolio\n",
    "ax.scatter(x=minrisk_volatility, y=minrisk_return, color='DarkGreen')\n",
    "ax.annotate('Minimum\\nRisk\\nPortfolio', (minrisk_volatility, minrisk_return),\n",
    "            horizontalalignment='right')\n",
    "ax.scatter(x=sigma, y=alpha, color='Red')\n",
    "ax.annotate('Optimal\\nWeight', (sigma, alpha),\n",
    "            horizontalalignment='right')\n",
    "#\n",
    "ax.scatter(x=0, y=rf, color='Red')\n",
    "ax.annotate('Risk-free rate', (0, rf),\n",
    "           horizontalalignment='right')\n",
    "\n",
    "\n",
    "\n",
    "# Plot efficient frontier\n",
    "frontier.plot(color='DarkGreen', label='Efficient Frontier', ax=ax)\n",
    "plt.plot(np.linspace(0, sigma, 100),CAL, '--', color='r', label='Capital Allocation Line')\n",
    "# Format and display the final plot\n",
    "ax.axis([0.0, 0.5, -0.2, 0.8])\n",
    "ax.set_xlabel('Volatility (standard deviation)')\n",
    "ax.set_ylabel('Expected Return')\n",
    "ax.legend()\n",
    "ax.grid()\n",
    "plt.show()"
   ]
  },
  {
   "cell_type": "code",
   "execution_count": null,
   "metadata": {},
   "outputs": [],
   "source": []
  }
 ],
 "metadata": {
  "kernelspec": {
   "display_name": "Python 3",
   "language": "python",
   "name": "python3"
  },
  "language_info": {
   "codemirror_mode": {
    "name": "ipython",
    "version": 3
   },
   "file_extension": ".py",
   "mimetype": "text/x-python",
   "name": "python",
   "nbconvert_exporter": "python",
   "pygments_lexer": "ipython3",
   "version": "3.6.6"
  },
  "toc": {
   "base_numbering": 1,
   "nav_menu": {},
   "number_sections": true,
   "sideBar": true,
   "skip_h1_title": false,
   "title_cell": "Table of Contents",
   "title_sidebar": "Contents",
   "toc_cell": false,
   "toc_position": {},
   "toc_section_display": true,
   "toc_window_display": false
  },
  "varInspector": {
   "cols": {
    "lenName": 16,
    "lenType": 16,
    "lenVar": 40
   },
   "kernels_config": {
    "python": {
     "delete_cmd_postfix": "",
     "delete_cmd_prefix": "del ",
     "library": "var_list.py",
     "varRefreshCmd": "print(var_dic_list())"
    },
    "r": {
     "delete_cmd_postfix": ") ",
     "delete_cmd_prefix": "rm(",
     "library": "var_list.r",
     "varRefreshCmd": "cat(var_dic_list()) "
    }
   },
   "types_to_exclude": [
    "module",
    "function",
    "builtin_function_or_method",
    "instance",
    "_Feature"
   ],
   "window_display": false
  }
 },
 "nbformat": 4,
 "nbformat_minor": 2
}
