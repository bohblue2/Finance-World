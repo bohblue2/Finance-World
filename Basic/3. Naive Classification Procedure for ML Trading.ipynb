{
 "cells": [
  {
   "cell_type": "markdown",
   "metadata": {},
   "source": [
    "Paper : [Deep neural networks, gradient-boosted trees,\n",
    "random forests: Statistical arbitrage on the S&P 500](https://www.econstor.eu/bitstream/10419/130166/1/856307327.pdf)"
   ]
  },
  {
   "cell_type": "markdown",
   "metadata": {},
   "source": [
    "## Classification framework in Trading"
   ]
  },
  {
   "cell_type": "code",
   "execution_count": 1,
   "metadata": {},
   "outputs": [
    {
     "data": {
      "text/html": [
       "<div>\n",
       "<style scoped>\n",
       "    .dataframe tbody tr th:only-of-type {\n",
       "        vertical-align: middle;\n",
       "    }\n",
       "\n",
       "    .dataframe tbody tr th {\n",
       "        vertical-align: top;\n",
       "    }\n",
       "\n",
       "    .dataframe thead th {\n",
       "        text-align: right;\n",
       "    }\n",
       "</style>\n",
       "<table border=\"1\" class=\"dataframe\">\n",
       "  <thead>\n",
       "    <tr style=\"text-align: right;\">\n",
       "      <th></th>\n",
       "      <th>Close</th>\n",
       "      <th>Open</th>\n",
       "      <th>High</th>\n",
       "      <th>Low</th>\n",
       "      <th>Volume</th>\n",
       "      <th>Change</th>\n",
       "    </tr>\n",
       "    <tr>\n",
       "      <th>Date</th>\n",
       "      <th></th>\n",
       "      <th></th>\n",
       "      <th></th>\n",
       "      <th></th>\n",
       "      <th></th>\n",
       "      <th></th>\n",
       "    </tr>\n",
       "  </thead>\n",
       "  <tbody>\n",
       "    <tr>\n",
       "      <th>2000-01-03</th>\n",
       "      <td>39.16</td>\n",
       "      <td>39.75</td>\n",
       "      <td>40.38</td>\n",
       "      <td>38.94</td>\n",
       "      <td>13460000.0</td>\n",
       "      <td>-0.0278</td>\n",
       "    </tr>\n",
       "    <tr>\n",
       "      <th>2000-01-04</th>\n",
       "      <td>38.41</td>\n",
       "      <td>38.69</td>\n",
       "      <td>39.09</td>\n",
       "      <td>38.25</td>\n",
       "      <td>14510000.0</td>\n",
       "      <td>-0.0192</td>\n",
       "    </tr>\n",
       "    <tr>\n",
       "      <th>2000-01-05</th>\n",
       "      <td>40.50</td>\n",
       "      <td>39.00</td>\n",
       "      <td>40.88</td>\n",
       "      <td>38.91</td>\n",
       "      <td>17490000.0</td>\n",
       "      <td>0.0544</td>\n",
       "    </tr>\n",
       "    <tr>\n",
       "      <th>2000-01-06</th>\n",
       "      <td>42.59</td>\n",
       "      <td>40.31</td>\n",
       "      <td>42.91</td>\n",
       "      <td>40.09</td>\n",
       "      <td>19460000.0</td>\n",
       "      <td>0.0516</td>\n",
       "    </tr>\n",
       "    <tr>\n",
       "      <th>2000-01-07</th>\n",
       "      <td>42.47</td>\n",
       "      <td>42.97</td>\n",
       "      <td>43.12</td>\n",
       "      <td>42.00</td>\n",
       "      <td>16600000.0</td>\n",
       "      <td>-0.0028</td>\n",
       "    </tr>\n",
       "  </tbody>\n",
       "</table>\n",
       "</div>"
      ],
      "text/plain": [
       "            Close   Open   High    Low      Volume  Change\n",
       "Date                                                      \n",
       "2000-01-03  39.16  39.75  40.38  38.94  13460000.0 -0.0278\n",
       "2000-01-04  38.41  38.69  39.09  38.25  14510000.0 -0.0192\n",
       "2000-01-05  40.50  39.00  40.88  38.91  17490000.0  0.0544\n",
       "2000-01-06  42.59  40.31  42.91  40.09  19460000.0  0.0516\n",
       "2000-01-07  42.47  42.97  43.12  42.00  16600000.0 -0.0028"
      ]
     },
     "execution_count": 1,
     "metadata": {},
     "output_type": "execute_result"
    }
   ],
   "source": [
    "import numpy as np\n",
    "import pandas as pd\n",
    "import FinanceDataReader as fdr\n",
    "\n",
    "ticker = 'xom'\n",
    "start_date = '2000-1-1'\n",
    "end_date = '2019-1-1'\n",
    "\n",
    "df = fdr.DataReader(ticker, start_date, end_date)\n",
    "df.head()"
   ]
  },
  {
   "cell_type": "code",
   "execution_count": 3,
   "metadata": {},
   "outputs": [
    {
     "data": {
      "text/plain": [
       "<matplotlib.axes._subplots.AxesSubplot at 0x120a8ee80>"
      ]
     },
     "execution_count": 3,
     "metadata": {},
     "output_type": "execute_result"
    },
    {
     "data": {
      "image/png": "[encoded data removed]",
      "text/plain": [
       "<Figure size 432x288 with 1 Axes>"
      ]
     },
     "metadata": {
      "needs_background": "light"
     },
     "output_type": "display_data"
    }
   ],
   "source": [
    "df['Close'].plot()"
   ]
  },
  {
   "cell_type": "markdown",
   "metadata": {},
   "source": [
    "### Features Contruction"
   ]
  },
  {
   "cell_type": "code",
   "execution_count": 4,
   "metadata": {},
   "outputs": [],
   "source": [
    "XOM = df\n",
    "# Features construction \n",
    "XOM['Open-Close'] = (XOM.Open - XOM.Close)/XOM.Open\n",
    "XOM['High-Low'] = (XOM.High - XOM.Low)/XOM.Low\n",
    "XOM['std_5'] = XOM['Change'].rolling(5).std()\n",
    "XOM['ret_5'] = XOM['Change'].rolling(5).mean()\n",
    "XOM.dropna(inplace=True)\n",
    "\n",
    "# X is the input variable\n",
    "X = XOM[['Open-Close', 'High-Low', 'std_5', 'ret_5']]\n",
    "\n",
    "# Y is the target or output variable (target : If tomorrow's price will go up 1, otherwise -1)\n",
    "y = np.where(XOM['Close'].shift(-1) > XOM['Close'], 1, -1)"
   ]
  },
  {
   "cell_type": "markdown",
   "metadata": {},
   "source": [
    "### Training ML Model"
   ]
  },
  {
   "cell_type": "code",
   "execution_count": 5,
   "metadata": {},
   "outputs": [
    {
     "name": "stdout",
     "output_type": "stream",
     "text": [
      "(3581, 4) (1194, 4)\n",
      "(3581,) (1194,)\n"
     ]
    }
   ],
   "source": [
    "# Total dataset length\n",
    "dataset_length = XOM.shape[0]\n",
    "\n",
    "# Training dataset length\n",
    "split = int(dataset_length * 0.75)\n",
    "\n",
    "# Splittiing the X and y into train and test datasets\n",
    "X_train, X_test = X[:split], X[split:]\n",
    "y_train, y_test = y[:split], y[split:]\n",
    "\n",
    "# Print the size of the train and test dataset\n",
    "print(X_train.shape, X_test.shape)\n",
    "print(y_train.shape, y_test.shape)"
   ]
  },
  {
   "cell_type": "code",
   "execution_count": 6,
   "metadata": {},
   "outputs": [
    {
     "name": "stderr",
     "output_type": "stream",
     "text": [
      "/Users/cheongyeongja/anaconda3/envs/machine/lib/python3.7/site-packages/sklearn/ensemble/forest.py:245: FutureWarning: The default value of n_estimators will change from 10 in version 0.20 to 100 in 0.22.\n",
      "  \"10 in version 0.20 to 100 in 0.22.\", FutureWarning)\n"
     ]
    }
   ],
   "source": [
    "from sklearn.ensemble import GradientBoostingClassifier,RandomForestClassifier\n",
    "from sklearn.neural_network import MLPClassifier\n",
    "from sklearn.ensemble import VotingClassifier\n",
    "\n",
    "\n",
    "clf1 = GradientBoostingClassifier(random_state=1)\n",
    "clf2 = RandomForestClassifier(random_state=1)\n",
    "clf3 = MLPClassifier(hidden_layer_sizes=(7,3), learning_rate='invscaling' ,random_state=1)\n",
    "clf = VotingClassifier(estimators=[('gb', clf1), ('rf', clf2), ('nn', clf3)], voting='soft')\n",
    "\n",
    "# Create the model on train dataset\n",
    "# clf = tree.DecisionTreeClassifier(random_state=5) # random_state is random seed\n",
    "model = clf.fit(X_train, y_train)"
   ]
  },
  {
   "cell_type": "code",
   "execution_count": 7,
   "metadata": {
    "scrolled": false
   },
   "outputs": [
    {
     "name": "stdout",
     "output_type": "stream",
     "text": [
      "Correct Prediction:  591\n",
      "Total Prediction:  1194\n",
      "Accuracy : 49.497487437185924 %\n"
     ]
    }
   ],
   "source": [
    "from sklearn.metrics import accuracy_score\n",
    "\n",
    "# Calculate the accuracy\n",
    "print('Correct Prediction: ', accuracy_score(y_test, model.predict(X_test), normalize=False))\n",
    "print('Total Prediction: ', X_test.shape[0])\n",
    "print('Accuracy : {} %'.format(accuracy_score(y_test, model.predict(X_test), normalize=True)*100))"
   ]
  },
  {
   "cell_type": "markdown",
   "metadata": {},
   "source": [
    "### Cross validation for the machine learning model"
   ]
  },
  {
   "cell_type": "code",
   "execution_count": 8,
   "metadata": {},
   "outputs": [
    {
     "name": "stdout",
     "output_type": "stream",
     "text": [
      "Train:  TEST:\n",
      "[1194 1195 1196 ... 4772 4773 4774] [   0    1    2 ... 1191 1192 1193]\n",
      "[   0    1    2 ... 4772 4773 4774] [1194 1195 1196 ... 2385 2386 2387]\n",
      "[   0    1    2 ... 4772 4773 4774] [2388 2389 2390 ... 3579 3580 3581]\n",
      "[   0    1    2 ... 3579 3580 3581] [3582 3583 3584 ... 4772 4773 4774]\n"
     ]
    }
   ],
   "source": [
    "from sklearn.model_selection import KFold\n",
    "\n",
    "kf = KFold(n_splits=4,shuffle=False)\n",
    "\n",
    "print(\"Train: \", \"TEST:\")\n",
    "for train_index, test_index in kf.split(X):\n",
    "     print(train_index, test_index)"
   ]
  },
  {
   "cell_type": "code",
   "execution_count": 9,
   "metadata": {},
   "outputs": [],
   "source": [
    "from sklearn.metrics import confusion_matrix\n",
    "\n",
    "%matplotlib inline\n",
    "import matplotlib.pyplot as plt\n",
    "import seaborn as sn"
   ]
  },
  {
   "cell_type": "code",
   "execution_count": 10,
   "metadata": {},
   "outputs": [
    {
     "name": "stderr",
     "output_type": "stream",
     "text": [
      "/Users/cheongyeongja/anaconda3/envs/machine/lib/python3.7/site-packages/sklearn/ensemble/forest.py:245: FutureWarning: The default value of n_estimators will change from 10 in version 0.20 to 100 in 0.22.\n",
      "  \"10 in version 0.20 to 100 in 0.22.\", FutureWarning)\n",
      "/Users/cheongyeongja/anaconda3/envs/machine/lib/python3.7/site-packages/sklearn/ensemble/forest.py:245: FutureWarning: The default value of n_estimators will change from 10 in version 0.20 to 100 in 0.22.\n",
      "  \"10 in version 0.20 to 100 in 0.22.\", FutureWarning)\n",
      "/Users/cheongyeongja/anaconda3/envs/machine/lib/python3.7/site-packages/sklearn/ensemble/forest.py:245: FutureWarning: The default value of n_estimators will change from 10 in version 0.20 to 100 in 0.22.\n",
      "  \"10 in version 0.20 to 100 in 0.22.\", FutureWarning)\n",
      "/Users/cheongyeongja/anaconda3/envs/machine/lib/python3.7/site-packages/sklearn/ensemble/forest.py:245: FutureWarning: The default value of n_estimators will change from 10 in version 0.20 to 100 in 0.22.\n",
      "  \"10 in version 0.20 to 100 in 0.22.\", FutureWarning)\n"
     ]
    },
    {
     "name": "stdout",
     "output_type": "stream",
     "text": [
      "[49.83249581239531, 49.916247906197654, 50.67001675041875, 50.37720033528919]\n"
     ]
    },
    {
     "data": {
      "image/png": "[encoded data removed]",
      "text/plain": [
       "<Figure size 2160x1080 with 2 Axes>"
      ]
     },
     "metadata": {
      "needs_background": "light"
     },
     "output_type": "display_data"
    }
   ],
   "source": [
    "# Initialize the accuracy of the models to blank list. The accuracy of each model will be appended to this list\n",
    "accuracy_model = []\n",
    "\n",
    "array = [[0,0],[0,0]]\n",
    "\n",
    "# Iterate over each train-test split\n",
    "for train_index, test_index in kf.split(X):\n",
    "    # Split train-test\n",
    "    X_train, X_test = X.iloc[train_index], X.iloc[test_index]\n",
    "    y_train, y_test = y[train_index], y[test_index]\n",
    "    \n",
    "    # Train the model\n",
    "    model = clf.fit(X_train, y_train)\n",
    "    \n",
    "    # Append to accuracy_model the accuracy of the model\n",
    "    accuracy_model.append(accuracy_score(y_test, model.predict(X_test), normalize=True)*100)\n",
    "    \n",
    "    c = confusion_matrix(y_test, model.predict(X_test))   \n",
    "    \n",
    "    # Add the score to the previous confusion matrix of previous model\n",
    "    array = array + c\n",
    "\n",
    "# Print the accuracy    \n",
    "print(accuracy_model)\n",
    "   \n",
    "    \n",
    "# Create a pandas dataframe that stores the output of confusion matrix        \n",
    "df = pd.DataFrame(array, index = ['Up', 'Down'], columns = ['Up', 'Down'])\n",
    "\n",
    "# Plot the heatmap\n",
    "plt.rcParams['figure.figsize'] = [30, 15]\n",
    "plt.rcParams.update({'font.size': 20})\n",
    "plt.rc('axes', labelsize = 25)\n",
    "plt.rc('figure', titlesize = 30)\n",
    "\n",
    "sn.heatmap(df, annot=True, cmap='Greens', fmt='g')\n",
    "plt.xlabel('Predicted')\n",
    "plt.ylabel('Actual')\n",
    "plt.show()"
   ]
  },
  {
   "cell_type": "markdown",
   "metadata": {},
   "source": [
    "### Stability of the Model Check"
   ]
  },
  {
   "cell_type": "code",
   "execution_count": 11,
   "metadata": {
    "scrolled": true
   },
   "outputs": [
    {
     "name": "stdout",
     "output_type": "stream",
     "text": [
      "Mean : 50.198990201075226 Std : 0.3420110394305758\n"
     ]
    }
   ],
   "source": [
    "print('Mean :', np.mean(accuracy_model), 'Std :',np.std(accuracy_model))"
   ]
  }
 ],
 "metadata": {
  "kernelspec": {
   "display_name": "Python 3",
   "language": "python",
   "name": "python3"
  },
  "language_info": {
   "codemirror_mode": {
    "name": "ipython",
    "version": 3
   },
   "file_extension": ".py",
   "mimetype": "text/x-python",
   "name": "python",
   "nbconvert_exporter": "python",
   "pygments_lexer": "ipython3",
   "version": "3.7.3"
  },
  "toc": {
   "base_numbering": 1,
   "nav_menu": {},
   "number_sections": true,
   "sideBar": true,
   "skip_h1_title": false,
   "title_cell": "Table of Contents",
   "title_sidebar": "Contents",
   "toc_cell": false,
   "toc_position": {},
   "toc_section_display": true,
   "toc_window_display": false
  },
  "varInspector": {
   "cols": {
    "lenName": 16,
    "lenType": 16,
    "lenVar": 40
   },
   "kernels_config": {
    "python": {
     "delete_cmd_postfix": "",
     "delete_cmd_prefix": "del ",
     "library": "var_list.py",
     "varRefreshCmd": "print(var_dic_list())"
    },
    "r": {
     "delete_cmd_postfix": ") ",
     "delete_cmd_prefix": "rm(",
     "library": "var_list.r",
     "varRefreshCmd": "cat(var_dic_list()) "
    }
   },
   "types_to_exclude": [
    "module",
    "function",
    "builtin_function_or_method",
    "instance",
    "_Feature"
   ],
   "window_display": false
  }
 },
 "nbformat": 4,
 "nbformat_minor": 2
}
