{
 "cells": [
  {
   "cell_type": "markdown",
   "metadata": {},
   "source": [
    "Paper : [a combined stochastic programming and optimal control approach to personal finance and pensions](https://backend.orbit.dtu.dk/ws/files/97358138/SSRN_id2432869.pdf)"
   ]
  },
  {
   "cell_type": "markdown",
   "metadata": {},
   "source": [
    "## Setting"
   ]
  },
  {
   "cell_type": "code",
   "execution_count": 14,
   "metadata": {},
   "outputs": [],
   "source": [
    "import pandas as pd\n",
    "import numpy as np\n",
    "import matplotlib.pyplot as plt\n",
    "import FinanceDataReader as fdr\n",
    "import pandas as pd\n",
    "\n",
    "\n",
    "ticker_list = ['069500']\n",
    "df_list = [fdr.DataReader(ticker, '2015-01-01', '2016-12-31')['Change'] for ticker in ticker_list]\n",
    "\n",
    "df = pd.concat(df_list, axis=1)\n",
    "df.columns = ['KODEX200']\n",
    "\n",
    "r = df.dropna()\n",
    "rf = 0.0125  # 기준 금리\n",
    "\n",
    "\n",
    "#df = df.resample('Y').agg(lambda x:x.mean()*252)\n",
    "\n",
    "# Calculate basic summary statistics for individual stocks\n",
    "stock_volatility = r.std() * np.sqrt(252)\n",
    "stock_return = r.mean() * 252\n",
    "\n",
    "alpha = stock_return.values\n",
    "sigma = stock_volatility.values"
   ]
  },
  {
   "cell_type": "code",
   "execution_count": 16,
   "metadata": {},
   "outputs": [
    {
     "data": {
      "text/plain": [
       "array([0.05625758])"
      ]
     },
     "execution_count": 16,
     "metadata": {},
     "output_type": "execute_result"
    }
   ],
   "source": [
    "alpha"
   ]
  },
  {
   "cell_type": "code",
   "execution_count": 17,
   "metadata": {},
   "outputs": [
    {
     "data": {
      "text/plain": [
       "array([0.12286779])"
      ]
     },
     "execution_count": 17,
     "metadata": {},
     "output_type": "execute_result"
    }
   ],
   "source": [
    "sigma"
   ]
  },
  {
   "cell_type": "markdown",
   "metadata": {},
   "source": [
    "## (5B), (7B)"
   ]
  },
  {
   "cell_type": "code",
   "execution_count": 18,
   "metadata": {
    "scrolled": false
   },
   "outputs": [
    {
     "name": "stdout",
     "output_type": "stream",
     "text": [
      "[0.83626862]\n"
     ]
    }
   ],
   "source": [
    "# g_B = 0 # in case of age over retirement (Second scenario in Problem(B))\n",
    "X0 = 150. # Saving account at the beginning\n",
    "l = 3\n",
    "t = 45 # age in case of age over retirement (Second scenario in Problem(B))\n",
    "gamma = -3. # risk averse measure\n",
    "\n",
    "phi = rf + (alpha -rf)**2 / (2 * sigma**2 * (1-gamma)) # temporal function for f_B\n",
    "rho = 0.04 # impatience factor for utility function\n",
    "beta = 4.59364 # parameter for mu\n",
    "delta = 0.05032 # parameter for mu\n",
    "rf=0.02\n",
    "\n",
    "def f_B(t):\n",
    "    \n",
    "    if t < 65:\n",
    "        ds = 0.01\n",
    "        T = 65\n",
    "        T_tilde = 110\n",
    "        value = 0\n",
    "    \n",
    "        for s in np.arange(T, T_tilde, ds):\n",
    "            w_s = np.exp(-rho*s/(1-gamma))\n",
    "            tmp = (10**(beta + delta*s - 10)- 10**(beta + delta*t - 10))/(delta * np.log(10))\n",
    "            value += np.exp(-1/(1-gamma)*(tmp - gamma*tmp - gamma*phi *(s-t))) * w_s * ds\n",
    "            \n",
    "        f = np.exp(-1/(1-gamma) *(tmp - gamma*tmp + gamma*phi*(T-t))) * value\n",
    "        \n",
    "        return f\n",
    "    \n",
    "    else: # 65~\n",
    "        ds = 0.01\n",
    "        T_tilde = 110\n",
    "        value = 0\n",
    "\n",
    "        for s in np.arange(t, T_tilde, ds):\n",
    "            w_s = np.exp(-rho*s/(1-gamma))\n",
    "            tmp = (10**(beta + delta*s - 10)- 10**(beta + delta*t - 10))/(delta * np.log(10))\n",
    "            value += np.exp(-1/(1-gamma)*(tmp - gamma*tmp - gamma*phi *(s-t))) * w_s * ds\n",
    "        \n",
    "        return value\n",
    "\n",
    "def C_star(t,X):\n",
    "    w_t = np.exp(-rho*t/(1-gamma))\n",
    "    f_b = f_B(t)\n",
    "    c_t = w_t/f_b * X\n",
    "    return c_t\n",
    "\n",
    "def g_B(t, l):\n",
    "    \n",
    "    ds=0.01\n",
    "    value = 0.\n",
    "    T=65 # retirement\n",
    "    \n",
    "    if t < T:\n",
    "        for s in np.arange(t, T, ds):\n",
    "            tmp = (10**(beta + delta*s - 10)- 10**(beta + delta*t - 10))/(delta * np.log(10))\n",
    "            value += np.exp(-tmp)*l * ds\n",
    "        return value\n",
    "    \n",
    "    else:\n",
    "        return 0.\n",
    "\n",
    "\n",
    "pi_opt  = (alpha-rf)/(sigma**2 *(1-gamma)) * (X0 + g_B(t, l))/X0 # Optimal weight for Risky Asset (7B)\n",
    "\n",
    "print(pi_opt) # 0.25\n",
    "# print(C_star(t, X))"
   ]
  },
  {
   "cell_type": "markdown",
   "metadata": {},
   "source": [
    "## Simulation"
   ]
  },
  {
   "cell_type": "code",
   "execution_count": 22,
   "metadata": {},
   "outputs": [
    {
     "name": "stdout",
     "output_type": "stream",
     "text": [
      "13266.346752882004\n"
     ]
    }
   ],
   "source": [
    "import time\n",
    "\n",
    "start = time.time()\n",
    "\n",
    "dt = 1\n",
    "\n",
    "def mu(t):\n",
    "    value = (10**(beta + delta*(t+dt) - 10)- 10**(beta + delta*t - 10))/(delta * np.log(10))\n",
    "    return value\n",
    "\n",
    "n_simulation = 10000\n",
    "\n",
    "Asset = np.empty(37)\n",
    "Asset_stack = []\n",
    "C_stack = []\n",
    "\n",
    "for i in range(n_simulation):\n",
    "    Asset[0] = 150\n",
    "    C_list = []\n",
    "    \n",
    "    for t in range(45, 81):\n",
    "        \n",
    "        if t < 65:\n",
    "            \n",
    "            l_t = 3\n",
    "            pi_opt  = (alpha-rf)/(sigma**2 *(1-gamma)) * (Asset[t-45] + g_B(t, l_t))/Asset[t-45]\n",
    "            C_t = 0\n",
    "            Z = np.random.randn()\n",
    "\n",
    "            Asset[t-45+1] = Asset[t-45]*np.exp(((1-pi_opt)*rf + pi_opt*alpha + mu(t)+ l_t/Asset[t-45] \\\n",
    "                                         -pi_opt**2 * sigma**2/2)*dt + pi_opt * sigma * np.sqrt(dt) * Z)\n",
    "            \n",
    "        else :\n",
    "            \n",
    "            l_t = 0\n",
    "            pi_opt  = (alpha-rf)/(sigma**2 *(1-gamma)) * (Asset[t-45] + g_B(t, l))/Asset[t-45]\n",
    "\n",
    "            C_t = C_star(t=t, X = Asset[t-45])\n",
    "            Z = np.random.randn()\n",
    "\n",
    "            # Dynamic equation\n",
    "            Asset[t-45+1] = Asset[t-45]*np.exp(((1-pi_opt)*rf + pi_opt*alpha + mu(t)- C_t/Asset[t-45] \\\n",
    "                                         -pi_opt**2 * sigma**2/2)*dt + pi_opt * sigma * np.sqrt(dt) * Z)\n",
    "            C_list.append(C_t)\n",
    "\n",
    "\n",
    "    Asset_stack.append(list(Asset))\n",
    "    C_stack.append(C_list)\n",
    "\n",
    "end = time.time()\n",
    "print(end - start)"
   ]
  },
  {
   "cell_type": "markdown",
   "metadata": {},
   "source": [
    "## Check the Simulation Result"
   ]
  },
  {
   "cell_type": "code",
   "execution_count": 24,
   "metadata": {},
   "outputs": [],
   "source": [
    "Asset_mean = np.mean(Asset_stack, axis=0)\n",
    "C_mean = np.mean(C_stack, axis=0)"
   ]
  },
  {
   "cell_type": "code",
   "execution_count": 26,
   "metadata": {},
   "outputs": [
    {
     "data": {
      "text/plain": [
       "(16, 1)"
      ]
     },
     "execution_count": 26,
     "metadata": {},
     "output_type": "execute_result"
    }
   ],
   "source": [
    "C_mean.shape"
   ]
  },
  {
   "cell_type": "code",
   "execution_count": 67,
   "metadata": {},
   "outputs": [
    {
     "data": {
      "text/plain": [
       "493.2048001376103"
      ]
     },
     "execution_count": 67,
     "metadata": {},
     "output_type": "execute_result"
    }
   ],
   "source": [
    "np.max(Asset_mean)"
   ]
  },
  {
   "cell_type": "code",
   "execution_count": 52,
   "metadata": {
    "scrolled": true
   },
   "outputs": [
    {
     "data": {
      "image/png": "[encoded data removed]",
      "text/plain": [
       "<Figure size 432x288 with 1 Axes>"
      ]
     },
     "metadata": {
      "needs_background": "light"
     },
     "output_type": "display_data"
    }
   ],
   "source": [
    "Asset_mean = np.mean(Asset_stack, axis=0) #(37,)\n",
    "C_mean = np.mean(C_stack, axis=0) # (16,1)\n",
    "\n",
    "plt.title('Retirement planning')\n",
    "plt.xlabel('Age')\n",
    "plt.ylabel('Won(1000000)')\n",
    "plt.plot(range(45,81),Asset_mean[:-1], label='Wealth(SOC)')\n",
    "plt.plot(range(65,81),C_mean, '--', color = 'r', label=\"Pension\")\n",
    "plt.legend()\n",
    "plt.grid()"
   ]
  },
  {
   "cell_type": "code",
   "execution_count": 55,
   "metadata": {
    "scrolled": false
   },
   "outputs": [
    {
     "data": {
      "text/plain": [
       "<matplotlib.legend.Legend at 0x125254c18>"
      ]
     },
     "execution_count": 55,
     "metadata": {},
     "output_type": "execute_result"
    },
    {
     "data": {
      "image/png": "[encoded data removed]",
      "text/plain": [
       "<Figure size 432x288 with 1 Axes>"
      ]
     },
     "metadata": {
      "needs_background": "light"
     },
     "output_type": "display_data"
    }
   ],
   "source": [
    "plt.title('Weights Comparison')\n",
    "plt.xlabel('Age')\n",
    "plt.ylabel('Weight')\n",
    "plt.bar(range(45,81),np.array(pi_opt_list).squeeze(), label='Risky weight(SOC)')\n",
    "# plt.plot(range(65,81),C_mean, '--', color = 'r', label=\"Pension\")\n",
    "plt.legend()\n",
    "# plt.grid()"
   ]
  },
  {
   "cell_type": "markdown",
   "metadata": {},
   "source": [
    "### Pension check after retirement(65 y)"
   ]
  },
  {
   "cell_type": "code",
   "execution_count": 68,
   "metadata": {
    "scrolled": true
   },
   "outputs": [
    {
     "data": {
      "text/plain": [
       "array([33.77260393, 34.15038007, 34.56324501, 34.92370976, 35.37750125,\n",
       "       35.80388844, 36.18508432, 36.62929667, 37.09589391, 37.54954642,\n",
       "       38.04039501, 38.56267829, 39.05746441, 39.55638139, 40.11969102,\n",
       "       40.67684554])"
      ]
     },
     "execution_count": 68,
     "metadata": {},
     "output_type": "execute_result"
    }
   ],
   "source": [
    "C_mean.squeeze()"
   ]
  },
  {
   "cell_type": "code",
   "execution_count": null,
   "metadata": {},
   "outputs": [],
   "source": []
  }
 ],
 "metadata": {
  "kernelspec": {
   "display_name": "Python 3",
   "language": "python",
   "name": "python3"
  },
  "language_info": {
   "codemirror_mode": {
    "name": "ipython",
    "version": 3
   },
   "file_extension": ".py",
   "mimetype": "text/x-python",
   "name": "python",
   "nbconvert_exporter": "python",
   "pygments_lexer": "ipython3",
   "version": "3.6.6"
  },
  "toc": {
   "base_numbering": 1,
   "nav_menu": {},
   "number_sections": true,
   "sideBar": true,
   "skip_h1_title": false,
   "title_cell": "Table of Contents",
   "title_sidebar": "Contents",
   "toc_cell": false,
   "toc_position": {},
   "toc_section_display": true,
   "toc_window_display": false
  },
  "varInspector": {
   "cols": {
    "lenName": 16,
    "lenType": 16,
    "lenVar": 40
   },
   "kernels_config": {
    "python": {
     "delete_cmd_postfix": "",
     "delete_cmd_prefix": "del ",
     "library": "var_list.py",
     "varRefreshCmd": "print(var_dic_list())"
    },
    "r": {
     "delete_cmd_postfix": ") ",
     "delete_cmd_prefix": "rm(",
     "library": "var_list.r",
     "varRefreshCmd": "cat(var_dic_list()) "
    }
   },
   "types_to_exclude": [
    "module",
    "function",
    "builtin_function_or_method",
    "instance",
    "_Feature"
   ],
   "window_display": false
  }
 },
 "nbformat": 4,
 "nbformat_minor": 2
}
