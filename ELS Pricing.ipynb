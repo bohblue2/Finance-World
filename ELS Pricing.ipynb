{
 "cells": [
  {
   "cell_type": "code",
   "execution_count": 2,
   "metadata": {},
   "outputs": [],
   "source": [
    "import numpy as np\n",
    "from datetime import date\n",
    "\n",
    "n = 10000 # 시뮬레이션 횟수\n",
    "r = 0.0165 # 이자율\n",
    "volatility = 0.1778 # 변동성\n",
    "\n",
    "# 장이 열리는 일자만 고려할 시\n",
    "#n0 = np.datetime64('2018-03-23') # 최초 기준가격평가일\n",
    "## datatime.date(2018,03,23)과 동일\n",
    "#n1 = np.datetime64('2018-09-19') # 1차 조기상환일\n",
    "#n2 = np.datetime64('2019-03-20') # 2차 조기상환일\n",
    "#n3 = np.datetime64('2019-09-19') # 3차 조기상환일\n",
    "#n4 = np.datetime64('2020-03-19') # 4차 조기상환일\n",
    "#n5 = np.datetime64('2020-09-21') # 5차 조기상환일\n",
    "#n6 = np.datetime64('2021-03-19') # 만기 상환일\n",
    "#\n",
    "#T1 = np.busday_count(n0, n1) # 1차 조기상환일까지 남은 일수, 128\n",
    "#T2 = np.busday_count(n0, n2) # 2차 조기상환일까지 남은 일수, 258\n",
    "#T3 = np.busday_count(n0, n3) # 3차 조기상환일까지 남은 일수, 389\n",
    "#T4 = np.busday_count(n0, n4) # 4차 조기상환일까지 남은 일수, 519\n",
    "#T5 = np.busday_count(n0, n5) # 5차 조기상환일까지 남은 일수, 651\n",
    "#T6 = np.busday_count(n0, n6) # 만기일까지 남은 일수, 780\n",
    "\n",
    "# 365일 다 고려할 시\n",
    "n0 = date.toordinal(date(2018,3,23)) # 최초 기준가격평가일\n",
    "n1 = date.toordinal(date(2018,9,19)) # 1차 조기상환일\n",
    "n2 = date.toordinal(date(2019,3,20)) # 2차 조기상환일\n",
    "n3 = date.toordinal(date(2019,9,19)) # 3차 조기상환일\n",
    "n4 = date.toordinal(date(2020,3,19)) # 4차 조기상환일\n",
    "n5 = date.toordinal(date(2020,9,21)) # 5차 조기상환일\n",
    "n6 = date.toordinal(date(2021,3,19)) # 만기 조기상환일\n",
    "\n",
    "T1 = n1-n0 # 1차 조기상환일까지 남은 일수, 180\n",
    "T2 = n2-n0 # 2차 조기상환일까지 남은 일수, 362\n",
    "T3 = n3-n0 # 3차 조기상환일까지 남은 일수, 545\n",
    "T4 = n4-n0 # 4차 조기상환일까지 남은 일수, 727\n",
    "T5 = n5-n0 # 5차 조기상환일까지 남은 일수, 913\n",
    "T6 = n6-n0 # 만기일까지 남은 일수, 1092\n",
    "\n",
    "\n",
    "#oneyar # 1년을 장 개시일 기준으로 할 때\n",
    "oneyear = 365\n",
    "total_date = T6 # 780\n",
    "dt = 1/oneyear # 시간 격자 간격\n",
    "S = np.zeros((total_date+1, 1)) # 주가벡터 생성(781,1)\n",
    "S[0] = 100 # 초기 주가\n",
    "strike_price = S[0] * [0.95, 0.95, 0.95, 0.90, 0.90, 0.85] #(6,)\n",
    "repay_n = len(strike_price) # 조기상환횟수, 6\n",
    "coupon_rate = [0.022, 0.044, 0.066, 0.088, 0.11, 0.132] # 조기행사시 받는 쿠폰 이자율\n",
    "check_day = [T1, T2, T3, T4, T5, T6] # 조기상환일 벡터 \n",
    "\n",
    "total_payoff = np.zeros((repay_n, 1)) # 전체 payoff 벡터\n",
    "payment = np.zeros((repay_n, 1)) # 조기상환시 payoff 벡터\n",
    "\n",
    "facevalue = 10000\n",
    "kib = 0.65 * S[0] # Knock In Barrier : 65\n",
    "dummy = 0.132\n",
    "\n",
    "#%% 조기상환시의 payoff 벡터 생성\n",
    "for i in range(repay_n):\n",
    "    payment[i] = facevalue * (1 + coupon_rate[i])\n",
    "#   payment : array([[10220.],\n",
    "#                    [10440.],\n",
    "#                    [10660.],\n",
    "#                    [10880.],\n",
    "#                    [11100.],\n",
    "#                    [11320.]])\n",
    "\n",
    "#%% Monte-Carlo Simulation을 이용한 ELS Pricing\n",
    "for i in range(n):\n",
    "    # 임의의 주가 경로 생성\n",
    "    for j in range(total_date):\n",
    "        S[j+1] = S[j]*np.exp((r-0.5*volatility**2)*dt \\\n",
    "                             + volatility*np.sqrt(dt)*np.random.randn(1))\n",
    "    \n",
    "    # 조기상환일 체크하여 payoff 결정\n",
    "    S_checkday = S[check_day] # 해당 조기 상환일의 주가\n",
    "    payoff = np.zeros((repay_n, 1)) # payoff 벡터 초기화\n",
    "    \n",
    "    repay_event = 0 # 조기상환이 되지 않은 상태를 의미함. for문을 빠져나감\n",
    "    \n",
    "    for j in range(repay_n):\n",
    "        if S_checkday[j] >= strike_price[j]: # 만약 해당일의 주가가 행사가격보다 크거나 같으면,\n",
    "            payoff[j] = payment[j] # 조기상환시 약속한 지불금액이 payoff가 된다.\n",
    "            repay_event = 1 # 조기상환이 된 상태를 의미함\n",
    "            break\n",
    "    \n",
    "    # 조기상환이 되지 않고 만기까지 온 경우\n",
    "    if repay_event == 0:\n",
    "        if min(S) > kib : # Knock-In-barrier 아래로 내려간적이 없으면\n",
    "            payoff[-1] = facevalue*(1 + dummy) # 액면가에 dummy rate를 곱한 만큼 지불(가장 좋은 상황)\n",
    "        else:\n",
    "            payoff[-1] = facevalue*(S[-1]/S[0]) # 액면가에 마지막주가/초기가 만큼 곱해서 지불(가장 안 좋은 상황)\n",
    "    \n",
    "    # 한 번 시뮬레이션이 끝날 때 마다 total_payoff 해당 상황 자리에 쌓아줌\n",
    "    total_payoff = total_payoff + payoff\n",
    " \n",
    "mean_payoff = total_payoff/n #모든 시뮬레이션 payoff의 평균을 구함\n",
    "\n",
    "#%% ELS Pricing\n",
    "discount_payoff = np.zeros_like(mean_payoff)\n",
    "for i in range(repay_n):\n",
    "    discount_payoff[i] = mean_payoff[i]*np.exp(-r*check_day[i]/oneyear)\n",
    "\n",
    "\n",
    "Price = sum(discount_payoff) "
   ]
  },
  {
   "cell_type": "code",
   "execution_count": 3,
   "metadata": {},
   "outputs": [
    {
     "name": "stdout",
     "output_type": "stream",
     "text": [
      "[9872.34264275]\n"
     ]
    }
   ],
   "source": [
    "print(Price)"
   ]
  },
  {
   "cell_type": "code",
   "execution_count": null,
   "metadata": {},
   "outputs": [],
   "source": []
  }
 ],
 "metadata": {
  "kernelspec": {
   "display_name": "Python 3",
   "language": "python",
   "name": "python3"
  },
  "language_info": {
   "codemirror_mode": {
    "name": "ipython",
    "version": 3
   },
   "file_extension": ".py",
   "mimetype": "text/x-python",
   "name": "python",
   "nbconvert_exporter": "python",
   "pygments_lexer": "ipython3",
   "version": "3.6.6"
  },
  "toc": {
   "base_numbering": 1,
   "nav_menu": {},
   "number_sections": true,
   "sideBar": true,
   "skip_h1_title": false,
   "title_cell": "Table of Contents",
   "title_sidebar": "Contents",
   "toc_cell": false,
   "toc_position": {},
   "toc_section_display": true,
   "toc_window_display": false
  },
  "varInspector": {
   "cols": {
    "lenName": 16,
    "lenType": 16,
    "lenVar": 40
   },
   "kernels_config": {
    "python": {
     "delete_cmd_postfix": "",
     "delete_cmd_prefix": "del ",
     "library": "var_list.py",
     "varRefreshCmd": "print(var_dic_list())"
    },
    "r": {
     "delete_cmd_postfix": ") ",
     "delete_cmd_prefix": "rm(",
     "library": "var_list.r",
     "varRefreshCmd": "cat(var_dic_list()) "
    }
   },
   "types_to_exclude": [
    "module",
    "function",
    "builtin_function_or_method",
    "instance",
    "_Feature"
   ],
   "window_display": false
  }
 },
 "nbformat": 4,
 "nbformat_minor": 2
}
